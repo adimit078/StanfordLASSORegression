{
 "cells": [
  {
   "cell_type": "markdown",
   "id": "b83d4ac0",
   "metadata": {},
   "source": [
    "#  <span style=\"color:blue\">BINARY LOGISTIC CLASSIFIER USING LASSO</span> \n",
    "## <span style=\"color:red\">Importing Libraries</span> "
   ]
  },
  {
   "cell_type": "code",
   "execution_count": null,
   "id": "d55636b1",
   "metadata": {},
   "outputs": [],
   "source": [
    "#import pandas/numpy for calculations + arrays\n",
    "import pandas as pd\n",
    "import numpy as np\n",
    "\n",
    "#import matplotlib for plots\n",
    "from matplotlib import pyplot as plt\n",
    "%matplotlib inline\n",
    "\n",
    "#import math for squaring or absolute error\n",
    "import math"
   ]
  },
  {
   "cell_type": "markdown",
   "id": "3350aa69",
   "metadata": {},
   "source": [
    "## <span style=\"color:red\">Importing Data</span> "
   ]
  },
  {
   "cell_type": "code",
   "execution_count": 2,
   "id": "ea82e9f1",
   "metadata": {},
   "outputs": [
    {
     "data": {
      "text/html": [
       "<div>\n",
       "<style scoped>\n",
       "    .dataframe tbody tr th:only-of-type {\n",
       "        vertical-align: middle;\n",
       "    }\n",
       "\n",
       "    .dataframe tbody tr th {\n",
       "        vertical-align: top;\n",
       "    }\n",
       "\n",
       "    .dataframe thead th {\n",
       "        text-align: right;\n",
       "    }\n",
       "</style>\n",
       "<table border=\"1\" class=\"dataframe\">\n",
       "  <thead>\n",
       "    <tr style=\"text-align: right;\">\n",
       "      <th></th>\n",
       "      <th>File.Name</th>\n",
       "      <th>Disease.State</th>\n",
       "      <th>50.0173686103896</th>\n",
       "      <th>50.046905557377</th>\n",
       "      <th>50.0835007356322</th>\n",
       "      <th>50.1277943137255</th>\n",
       "      <th>50.1751682435897</th>\n",
       "      <th>50.2244724285714</th>\n",
       "      <th>50.2674862025317</th>\n",
       "      <th>50.3023772386364</th>\n",
       "      <th>...</th>\n",
       "      <th>999.3755015</th>\n",
       "      <th>999.421612333333</th>\n",
       "      <th>999.487145</th>\n",
       "      <th>999.610550666667</th>\n",
       "      <th>999.6786326</th>\n",
       "      <th>999.7367805</th>\n",
       "      <th>999.785652666667</th>\n",
       "      <th>999.840502</th>\n",
       "      <th>999.916009</th>\n",
       "      <th>999.9698235</th>\n",
       "    </tr>\n",
       "  </thead>\n",
       "  <tbody>\n",
       "    <tr>\n",
       "      <th>0</th>\n",
       "      <td>1</td>\n",
       "      <td>0</td>\n",
       "      <td>0.000038</td>\n",
       "      <td>0.000038</td>\n",
       "      <td>0.000045</td>\n",
       "      <td>0.000031</td>\n",
       "      <td>0.000072</td>\n",
       "      <td>0.000047</td>\n",
       "      <td>0.000035</td>\n",
       "      <td>0.000039</td>\n",
       "      <td>...</td>\n",
       "      <td>0.0</td>\n",
       "      <td>0.000000</td>\n",
       "      <td>0.000000</td>\n",
       "      <td>0.000000</td>\n",
       "      <td>0.000000</td>\n",
       "      <td>0.000056</td>\n",
       "      <td>0.000000</td>\n",
       "      <td>0.000042</td>\n",
       "      <td>0.000000</td>\n",
       "      <td>0.00000</td>\n",
       "    </tr>\n",
       "    <tr>\n",
       "      <th>1</th>\n",
       "      <td>2</td>\n",
       "      <td>0</td>\n",
       "      <td>0.000058</td>\n",
       "      <td>0.000051</td>\n",
       "      <td>0.000049</td>\n",
       "      <td>0.000060</td>\n",
       "      <td>0.000049</td>\n",
       "      <td>0.000053</td>\n",
       "      <td>0.000055</td>\n",
       "      <td>0.000052</td>\n",
       "      <td>...</td>\n",
       "      <td>0.0</td>\n",
       "      <td>0.000000</td>\n",
       "      <td>0.000000</td>\n",
       "      <td>0.000000</td>\n",
       "      <td>0.000000</td>\n",
       "      <td>0.000000</td>\n",
       "      <td>0.000000</td>\n",
       "      <td>0.000000</td>\n",
       "      <td>0.000057</td>\n",
       "      <td>0.00000</td>\n",
       "    </tr>\n",
       "    <tr>\n",
       "      <th>2</th>\n",
       "      <td>3</td>\n",
       "      <td>0</td>\n",
       "      <td>0.000089</td>\n",
       "      <td>0.000076</td>\n",
       "      <td>0.000078</td>\n",
       "      <td>0.000087</td>\n",
       "      <td>0.000073</td>\n",
       "      <td>0.000095</td>\n",
       "      <td>0.000075</td>\n",
       "      <td>0.000082</td>\n",
       "      <td>...</td>\n",
       "      <td>0.0</td>\n",
       "      <td>0.000082</td>\n",
       "      <td>0.000000</td>\n",
       "      <td>0.000000</td>\n",
       "      <td>0.000000</td>\n",
       "      <td>0.000000</td>\n",
       "      <td>0.000091</td>\n",
       "      <td>0.000000</td>\n",
       "      <td>0.000000</td>\n",
       "      <td>0.00008</td>\n",
       "    </tr>\n",
       "    <tr>\n",
       "      <th>3</th>\n",
       "      <td>4</td>\n",
       "      <td>0</td>\n",
       "      <td>0.000063</td>\n",
       "      <td>0.000052</td>\n",
       "      <td>0.000054</td>\n",
       "      <td>0.000053</td>\n",
       "      <td>0.000099</td>\n",
       "      <td>0.000054</td>\n",
       "      <td>0.000067</td>\n",
       "      <td>0.000056</td>\n",
       "      <td>...</td>\n",
       "      <td>0.0</td>\n",
       "      <td>0.000056</td>\n",
       "      <td>0.000000</td>\n",
       "      <td>0.000056</td>\n",
       "      <td>0.000066</td>\n",
       "      <td>0.000000</td>\n",
       "      <td>0.000000</td>\n",
       "      <td>0.000000</td>\n",
       "      <td>0.000000</td>\n",
       "      <td>0.00000</td>\n",
       "    </tr>\n",
       "    <tr>\n",
       "      <th>4</th>\n",
       "      <td>5</td>\n",
       "      <td>0</td>\n",
       "      <td>0.000051</td>\n",
       "      <td>0.000056</td>\n",
       "      <td>0.000047</td>\n",
       "      <td>0.000049</td>\n",
       "      <td>0.000060</td>\n",
       "      <td>0.000050</td>\n",
       "      <td>0.000050</td>\n",
       "      <td>0.000058</td>\n",
       "      <td>...</td>\n",
       "      <td>0.0</td>\n",
       "      <td>0.000000</td>\n",
       "      <td>0.000048</td>\n",
       "      <td>0.000000</td>\n",
       "      <td>0.000061</td>\n",
       "      <td>0.000000</td>\n",
       "      <td>0.000000</td>\n",
       "      <td>0.000000</td>\n",
       "      <td>0.000000</td>\n",
       "      <td>0.00000</td>\n",
       "    </tr>\n",
       "  </tbody>\n",
       "</table>\n",
       "<p>5 rows × 20223 columns</p>\n",
       "</div>"
      ],
      "text/plain": [
       "   File.Name  Disease.State  50.0173686103896  50.046905557377  \\\n",
       "0          1              0          0.000038         0.000038   \n",
       "1          2              0          0.000058         0.000051   \n",
       "2          3              0          0.000089         0.000076   \n",
       "3          4              0          0.000063         0.000052   \n",
       "4          5              0          0.000051         0.000056   \n",
       "\n",
       "   50.0835007356322  50.1277943137255  50.1751682435897  50.2244724285714  \\\n",
       "0          0.000045          0.000031          0.000072          0.000047   \n",
       "1          0.000049          0.000060          0.000049          0.000053   \n",
       "2          0.000078          0.000087          0.000073          0.000095   \n",
       "3          0.000054          0.000053          0.000099          0.000054   \n",
       "4          0.000047          0.000049          0.000060          0.000050   \n",
       "\n",
       "   50.2674862025317  50.3023772386364  ...  999.3755015  999.421612333333  \\\n",
       "0          0.000035          0.000039  ...          0.0          0.000000   \n",
       "1          0.000055          0.000052  ...          0.0          0.000000   \n",
       "2          0.000075          0.000082  ...          0.0          0.000082   \n",
       "3          0.000067          0.000056  ...          0.0          0.000056   \n",
       "4          0.000050          0.000058  ...          0.0          0.000000   \n",
       "\n",
       "   999.487145  999.610550666667  999.6786326  999.7367805  999.785652666667  \\\n",
       "0    0.000000          0.000000     0.000000     0.000056          0.000000   \n",
       "1    0.000000          0.000000     0.000000     0.000000          0.000000   \n",
       "2    0.000000          0.000000     0.000000     0.000000          0.000091   \n",
       "3    0.000000          0.000056     0.000066     0.000000          0.000000   \n",
       "4    0.000048          0.000000     0.000061     0.000000          0.000000   \n",
       "\n",
       "   999.840502  999.916009  999.9698235  \n",
       "0    0.000042    0.000000      0.00000  \n",
       "1    0.000000    0.000057      0.00000  \n",
       "2    0.000000    0.000000      0.00008  \n",
       "3    0.000000    0.000000      0.00000  \n",
       "4    0.000000    0.000000      0.00000  \n",
       "\n",
       "[5 rows x 20223 columns]"
      ]
     },
     "execution_count": 2,
     "metadata": {},
     "output_type": "execute_result"
    }
   ],
   "source": [
    "#import dataset as df\n",
    "df = pd.read_csv(\"training_matrix.csv\")\n",
    "df.head()"
   ]
  },
  {
   "cell_type": "markdown",
   "id": "dd41c37d",
   "metadata": {},
   "source": [
    "## <span style=\"color:red\">Splitting Data To X and Y Groups</span> "
   ]
  },
  {
   "cell_type": "code",
   "execution_count": 4,
   "id": "6334b39d",
   "metadata": {},
   "outputs": [],
   "source": [
    "#drop \n",
    "df.drop(\"File.Name\", axis =1,inplace=True)"
   ]
  },
  {
   "cell_type": "code",
   "execution_count": 82,
   "id": "a6b177f8",
   "metadata": {},
   "outputs": [],
   "source": [
    "#split data\n",
    "X = df.drop(\"Disease.State\", axis =1)\n",
    "y = df[\"Disease.State\"]"
   ]
  },
  {
   "cell_type": "markdown",
   "id": "c7a3674b",
   "metadata": {},
   "source": [
    "## <span style=\"color:red\">Train/Test LASSO Model Over Lambda Values (0.0001 -> 0.1) and Record MSE</span> "
   ]
  },
  {
   "cell_type": "code",
   "execution_count": 7,
   "id": "fb9f3f72",
   "metadata": {
    "scrolled": true
   },
   "outputs": [],
   "source": [
    "#import train test split and split data\n",
    "from sklearn.model_selection import train_test_split\n",
    "xtrain, xtest, ytrain, ytest = train_test_split(X,y,test_size=0.2,random_state = 3)\n",
    "\n",
    "#Set up array for all recorded lambda values and MSE associated with chosen lambda\n",
    "alphaPoints = [] #holds lambda\n",
    "avgPoints = [] #holds MSE\n",
    "\n",
    "#Import basic linear model\n",
    "from sklearn import linear_model\n",
    "\n",
    "#Set initial lambda close to 0: \"0.0001\"\n",
    "alpha = 0.0001\n",
    "\n",
    "#While loop iterates over 0.0001 lambda differences from 0.001 to 0.1, and records MSE from model prediction\n",
    "while alpha < 0.1:\n",
    "    \n",
    "    #\"alpha=alpha\" lambda changes each iteration\n",
    "    lasso_reg = linear_model.Lasso(alpha=alpha, fit_intercept=True, max_iter=100, tol = 0.1)\n",
    "    lasso_reg.fit(xtrain, ytrain)\n",
    "    \n",
    "    #Get model predictions\n",
    "    y_pred = lasso_reg.predict(xtest)\n",
    "    #y_pred = [X.XXXX, X.XXXX, X.XXXX, X.XXXX]\n",
    "    #ytest.values = [0 or 1, 0 or 1, 0 or 1, 0 or 1] \n",
    "    \n",
    "    #Calculate MSE for this particular iteration of lambda with LASSO model\n",
    "    total = 0;\n",
    "    for i in range(4):\n",
    "        #Square each difference: (y actual - y predicted)**2\n",
    "        total+=pow(ytest.values[i]-y_pred[i],2)\n",
    "    avgDiff = total/4\n",
    "    \n",
    "    #Append log(lamda) to the \"alphaPoints\" array\n",
    "    alphaPoints.append(math.log(alpha))\n",
    "    \n",
    "    #Append MSE to the \"avgPoints\" array\n",
    "    avgPoints.append(avgDiff)\n",
    "    \n",
    "    #Iterate lambda by increasing alpha by 0.0001\n",
    "    alpha+=0.0001"
   ]
  },
  {
   "cell_type": "markdown",
   "id": "0cc361c7",
   "metadata": {},
   "source": [
    "## <span style=\"color:red\">Graph Mean Squared Error by Log of Lambdas Chosen by Model</span> "
   ]
  },
  {
   "cell_type": "code",
   "execution_count": 8,
   "id": "b6923f8b",
   "metadata": {},
   "outputs": [
    {
     "data": {
      "image/png": "[encoded data removed]",
      "text/plain": [
       "<Figure size 432x288 with 1 Axes>"
      ]
     },
     "metadata": {
      "needs_background": "light"
     },
     "output_type": "display_data"
    }
   ],
   "source": [
    "#convert arrays to numpy arrays\n",
    "x=np.array(alphaPoints)\n",
    "y=np.array(avgPoints)\n",
    "\n",
    "#set up plot\n",
    "plt.plot(x, y)\n",
    "\n",
    "#label axi accordingly\n",
    "plt.xlabel(\"Log of Lambda\")\n",
    "plt.ylabel(\"Means Squared Error\")\n",
    "\n",
    "#present plot\n",
    "plt.show()"
   ]
  },
  {
   "cell_type": "markdown",
   "id": "9c80f237",
   "metadata": {},
   "source": [
    "## <span style=\"color:red\">Find Minima of \"MSE x Log(Lambda) Graph\" and Regraph With Optimal Values Identified</span> "
   ]
  },
  {
   "cell_type": "code",
   "execution_count": 61,
   "id": "26086e5c",
   "metadata": {},
   "outputs": [
    {
     "name": "stdout",
     "output_type": "stream",
     "text": [
      "0.12987484327709137\n",
      "-5.713832810509703\n",
      "1.932712206227801e-06\n"
     ]
    }
   ],
   "source": [
    "# function to find minimum and maximum position in list\n",
    "def minimum(a, n):\n",
    " \n",
    "    # inbuilt function to find the position of minimum\n",
    "    minpos = a.index(min(a))\n",
    " \n",
    "    # printing the position\n",
    "    return (minpos + 1)\n",
    "\n",
    "#Finding index of least MSE in \"avgPoints\" array\n",
    "minIndex = minimum(avgPoints, len(avgPoints))\n",
    "\n",
    "#See the least MSE and the corresponding Log(Lambda)\n",
    "print(avgPoints[minIndex])\n",
    "print(alphaPoints[minIndex])"
   ]
  },
  {
   "cell_type": "code",
   "execution_count": 75,
   "id": "b807d103",
   "metadata": {
    "scrolled": false
   },
   "outputs": [
    {
     "data": {
      "image/png": "[encoded data removed]",
      "text/plain": [
       "<Figure size 432x288 with 1 Axes>"
      ]
     },
     "metadata": {
      "needs_background": "light"
     },
     "output_type": "display_data"
    }
   ],
   "source": [
    "#Plot the MSExLog(Lambda) Graph again\n",
    "x=np.array(alphaPoints)\n",
    "y=np.array(avgPoints)\n",
    "\n",
    "#Record min MSE and min lambda\n",
    "minX = [alphaPoints[minIndex]]\n",
    "minY = [avgPoints[minIndex]]\n",
    "\n",
    "#Set up plot\n",
    "plt.plot(x, y, color = \"r\")\n",
    "\n",
    "#Set up two lines that intersect at the local minima: identifying the lowest MSE and the corresponding Log(lambda)\n",
    "plt.axvline(minX, color = \"g\",linestyle=\":\")\n",
    "plt.axhline(minY, color = \"g\",linestyle=\":\")\n",
    "\n",
    "#Set up appropriate axi\n",
    "plt.xlabel(\"Log of Lambda\")\n",
    "plt.ylabel(\"Means Squared Error\")\n",
    "\n",
    "#VERY IMPORTANT: Reverse Log(Lambda) back into just Lambda, so we can test the optimal \"alpha\" again\n",
    "optimalLambda = 10**alphaPoints[minIndex]\n",
    "\n",
    "#Record all final information in top left corner of graph\n",
    "plt.text(-9.3, 0.25, 'Optimal Lambda: '+str(optimalLambda), size=10, color='green')\n",
    "plt.text(-9.3, 0.23, 'MSE: '+str(avgPoints[minIndex]), size=10, color='green')\n",
    "\n",
    "#Present the graph\n",
    "plt.show()"
   ]
  },
  {
   "cell_type": "markdown",
   "id": "748c8566",
   "metadata": {},
   "source": [
    "## <span style=\"color:red\">Use Optimal Lambda Identified to Test New LASSO Model For Fun</span> "
   ]
  },
  {
   "cell_type": "code",
   "execution_count": 94,
   "id": "59ea5401",
   "metadata": {},
   "outputs": [
    {
     "name": "stdout",
     "output_type": "stream",
     "text": [
      "[0.14000112 0.00764031 0.89811941 0.65052896]\n",
      "[0 0 1 0]\n"
     ]
    }
   ],
   "source": [
    "xtrain, xtest, ytrain, ytest = train_test_split(X,y,test_size=0.2,random_state = 10)\n",
    "\n",
    "lasso_reg = linear_model.Lasso(alpha=optimalLambda, fit_intercept=True, max_iter=100, tol = 0.1)\n",
    "lasso_reg.fit(xtrain, ytrain)\n",
    "    \n",
    "y_pred = lasso_reg.predict(xtest)\n",
    "print(y_pred)\n",
    "print(ytest.values)"
   ]
  },
  {
   "cell_type": "markdown",
   "id": "765d68ab",
   "metadata": {},
   "source": [
    "## <span style=\"color:red\">Future Steps:</span> \n",
    "#### <span style=\"color:blue\">- Improve \"accuracy\" measurement: currently only MSE</span> \n",
    "#### <span style=\"color:blue\">- Finding new testing methods</span> \n",
    "#### <span style=\"color:blue\">- Identify Key Analites from this data - could use the code below and sort? </span> "
   ]
  },
  {
   "cell_type": "code",
   "execution_count": null,
   "id": "f9b6349f",
   "metadata": {},
   "outputs": [],
   "source": [
    "#If Needed (Back Up to Test) OR Can be used for Analite Importance:\n",
    "\n",
    "colNames = list(df.columns)\n",
    "if (any([lasso_reg.coef_[i]!=0 for i in range(len(lasso_reg.coef_))])):\n",
    "    for i in range(len(lasso_reg.coef_)):\n",
    "        if lasso_reg.coef_[i] !=0:\n",
    "            print((colNames1[i],lasso_reg.coef_[i]))\n",
    "else:\n",
    "    print(\"All Zero Coeffs 😔\")"
   ]
  }
 ],
 "metadata": {
  "kernelspec": {
   "display_name": "Python 3 (ipykernel)",
   "language": "python",
   "name": "python3"
  },
  "language_info": {
   "codemirror_mode": {
    "name": "ipython",
    "version": 3
   },
   "file_extension": ".py",
   "mimetype": "text/x-python",
   "name": "python",
   "nbconvert_exporter": "python",
   "pygments_lexer": "ipython3",
   "version": "3.9.7"
  }
 },
 "nbformat": 4,
 "nbformat_minor": 5
}
